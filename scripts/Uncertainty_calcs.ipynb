{
 "metadata": {
  "name": "",
  "signature": "sha256:dd541907eb6455bc901072858b04a78e27021a1369eabb3a4740a9c5a6f5d90f"
 },
 "nbformat": 3,
 "nbformat_minor": 0,
 "worksheets": [
  {
   "cells": [
    {
     "cell_type": "code",
     "collapsed": false,
     "input": [
      "from sympy import init_printing, pprint\n",
      "from IPython.display import display\n",
      "init_printing()\n",
      "import sympy as sym\n",
      "#import numpy as np\n",
      "%pylab inline"
     ],
     "language": "python",
     "metadata": {},
     "outputs": [
      {
       "output_type": "stream",
       "stream": "stdout",
       "text": [
        "Populating the interactive namespace from numpy and matplotlib\n"
       ]
      }
     ],
     "prompt_number": 1
    },
    {
     "cell_type": "code",
     "collapsed": false,
     "input": [
      "a_phi, b_b, a, phi, b_phi, a_m, b_bm, m, a_d, b_bd, a_g, g, a_w, b_w, d = sym.symbols('a_phi, b_b, a, phi, b_phi, a_m, b_bm, m, a_d, b_bd, a_g, g, a_w, b_w, d')\n",
      "sym_list = [a_phi, b_b, a, phi, b_phi, a_m, b_bm, m, a_d, b_bd, a_g, g, a_w, b_w, d]\n",
      "t = ((a_phi * (b_b / a) - b_phi)*phi) + ((a_m(b_b / a) - b_bm) * m) + ((a_d * (b_b / a) - b_bd) * d) + (a_g*(b_b / a) * g) + (a_w * (b_b / a) - b_w)\n",
      "t"
     ],
     "language": "python",
     "metadata": {},
     "outputs": [
      {
       "latex": [
        "$$- b_{w} + d \\left(- b_{bd} + \\frac{a_{d} b_{b}}{a}\\right) + m \\left(- b_{bm} + \\operatorname{a_{m}}{\\left (\\frac{b_{b}}{a} \\right )}\\right) + \\phi \\left(- b_{\\phi} + \\frac{a_{\\phi} b_{b}}{a}\\right) + \\frac{a_{g} b_{b}}{a} g + \\frac{a_{w} b_{b}}{a}$$"
       ],
       "metadata": {},
       "output_type": "pyout",
       "png": "[encoded data removed]",
       "prompt_number": 2,
       "text": [
        "         \u239b        a_d\u22c5b_b\u239e     \u239b           \u239bb_b\u239e\u239e     \u239b      a\u1d69\u22c5b_b\u239e   a_g\u22c5b_b\n",
        "-b_w + d\u22c5\u239c-b_bd + \u2500\u2500\u2500\u2500\u2500\u2500\u2500\u239f + m\u22c5\u239c-b_bm + a_m\u239c\u2500\u2500\u2500\u239f\u239f + \u03c6\u22c5\u239c-b\u1d69 + \u2500\u2500\u2500\u2500\u2500\u2500\u239f + \u2500\u2500\u2500\u2500\u2500\u2500\u2500\n",
        "         \u239d           a   \u23a0     \u239d           \u239d a \u23a0\u23a0     \u239d        a   \u23a0       a  \n",
        "\n",
        "\u22c5g   a_w\u22c5b_b\n",
        "\u2500\u2500 + \u2500\u2500\u2500\u2500\u2500\u2500\u2500\n",
        "        a   "
       ]
      }
     ],
     "prompt_number": 2
    },
    {
     "cell_type": "code",
     "collapsed": false,
     "input": [
      "diff_eqns = []\n",
      "unc_terms = []\n",
      "for symbol in sym_list:\n",
      "    a = (sym.diff(t, symbol))\n",
      "    \n",
      "    diff_eqns.append(a)\n",
      "    unc_terms.append(a**2 * symbol**2)\n",
      "    display(a**2 * symbol**2)\n",
      "display(unc_terms)\n",
      "\n",
      "\n",
      "    "
     ],
     "language": "python",
     "metadata": {},
     "outputs": [
      {
       "latex": [
        "$$\\frac{a_{\\phi}^{2} b_{b}^{2}}{a^{2}} \\phi^{2}$$"
       ],
       "metadata": {},
       "output_type": "display_data",
       "png": "[encoded data removed]",
       "text": [
        "  2    2  2\n",
        "a\u1d69 \u22c5b_b \u22c5\u03c6 \n",
        "\u2500\u2500\u2500\u2500\u2500\u2500\u2500\u2500\u2500\u2500\u2500\n",
        "      2    \n",
        "     a     "
       ]
      },
      {
       "latex": [
        "$$b_{b}^{2} \\left(\\frac{a_{d} d}{a} + \\frac{a_{g} g}{a} + \\frac{a_{\\phi} \\phi}{a} + \\frac{a_{w}}{a} + \\frac{m}{a} \\left. \\frac{d}{d \\xi_{1}} \\operatorname{a_{m}}{\\left (\\xi_{1} \\right )} \\right|_{\\substack{ \\xi_{1}=\\frac{b_{b}}{a} }}\\right)^{2}$$"
       ],
       "metadata": {},
       "output_type": "display_data",
       "png": "[encoded data removed]",
       "text": [
        "                                                           2\n",
        "     \u239b                               \u239b d          \u239e\u2502      \u239e \n",
        "     \u239c                             m\u22c5\u239c\u2500\u2500\u2500(a_m(\u03be\u2081))\u239f\u2502   b_b\u239f \n",
        "     \u239c                               \u239dd\u03be\u2081         \u23a0\u2502\u03be\u2081=\u2500\u2500\u2500\u239f \n",
        "   2 \u239ca_d\u22c5d   a_g\u22c5g   a\u1d69\u22c5\u03c6   a_w                        a \u239f \n",
        "b_b \u22c5\u239c\u2500\u2500\u2500\u2500\u2500 + \u2500\u2500\u2500\u2500\u2500 + \u2500\u2500\u2500\u2500 + \u2500\u2500\u2500 + \u2500\u2500\u2500\u2500\u2500\u2500\u2500\u2500\u2500\u2500\u2500\u2500\u2500\u2500\u2500\u2500\u2500\u2500\u2500\u2500\u2500\u2500\u2500\u239f \n",
        "     \u239d  a       a      a      a               a           \u23a0 "
       ]
      },
      {
       "latex": [
        "$$a^{2} \\left(- \\frac{a_{d} b_{b}}{a^{2}} d - \\frac{a_{g} b_{b}}{a^{2}} g - \\frac{a_{\\phi} b_{b}}{a^{2}} \\phi - \\frac{a_{w} b_{b}}{a^{2}} - \\frac{b_{b} m}{a^{2}} \\left. \\frac{d}{d \\xi_{1}} \\operatorname{a_{m}}{\\left (\\xi_{1} \\right )} \\right|_{\\substack{ \\xi_{1}=\\frac{b_{b}}{a} }}\\right)^{2}$$"
       ],
       "metadata": {},
       "output_type": "display_data",
       "png": "[encoded data removed]",
       "text": [
        "                                                                              \n",
        "   \u239b                                                     \u239b d          \u239e\u2502      \n",
        "   \u239c                                               b_b\u22c5m\u22c5\u239c\u2500\u2500\u2500(a_m(\u03be\u2081))\u239f\u2502   b_b\n",
        "   \u239c                                                     \u239dd\u03be\u2081         \u23a0\u2502\u03be\u2081=\u2500\u2500\u2500\n",
        " 2 \u239c  a_d\u22c5b_b\u22c5d   a_g\u22c5b_b\u22c5g   a\u1d69\u22c5b_b\u22c5\u03c6   a_w\u22c5b_b                            a \n",
        "a \u22c5\u239c- \u2500\u2500\u2500\u2500\u2500\u2500\u2500\u2500\u2500 - \u2500\u2500\u2500\u2500\u2500\u2500\u2500\u2500\u2500 - \u2500\u2500\u2500\u2500\u2500\u2500\u2500\u2500 - \u2500\u2500\u2500\u2500\u2500\u2500\u2500 - \u2500\u2500\u2500\u2500\u2500\u2500\u2500\u2500\u2500\u2500\u2500\u2500\u2500\u2500\u2500\u2500\u2500\u2500\u2500\u2500\u2500\u2500\u2500\u2500\u2500\u2500\u2500\n",
        "   \u239c       2           2          2          2                   2            \n",
        "   \u239d      a           a          a          a                   a             \n",
        "\n",
        " 2\n",
        "\u239e \n",
        "\u239f \n",
        "\u239f \n",
        "\u239f \n",
        "\u239f \n",
        "\u239f \n",
        "\u23a0 "
       ]
      },
      {
       "latex": [
        "$$\\phi^{2} \\left(- b_{\\phi} + \\frac{a_{\\phi} b_{b}}{a}\\right)^{2}$$"
       ],
       "metadata": {},
       "output_type": "display_data",
       "png": "[encoded data removed]",
       "text": [
        "                 2\n",
        " 2 \u239b      a\u1d69\u22c5b_b\u239e \n",
        "\u03c6 \u22c5\u239c-b\u1d69 + \u2500\u2500\u2500\u2500\u2500\u2500\u239f \n",
        "   \u239d        a   \u23a0 "
       ]
      },
      {
       "latex": [
        "$$b_{\\phi}^{2} \\phi^{2}$$"
       ],
       "metadata": {},
       "output_type": "display_data",
       "png": "[encoded data removed]",
       "text": [
        "  2  2\n",
        "b\u1d69 \u22c5\u03c6 "
       ]
      },
      {
       "latex": [
        "$$0$$"
       ],
       "metadata": {},
       "output_type": "display_data",
       "png": "[encoded data removed]",
       "text": [
        "0"
       ]
      },
      {
       "latex": [
        "$$b_{bm}^{2} m^{2}$$"
       ],
       "metadata": {},
       "output_type": "display_data",
       "png": "[encoded data removed]",
       "text": [
        "    2  2\n",
        "b_bm \u22c5m "
       ]
      },
      {
       "latex": [
        "$$m^{2} \\left(- b_{bm} + \\operatorname{a_{m}}{\\left (\\frac{b_{b}}{a} \\right )}\\right)^{2}$$"
       ],
       "metadata": {},
       "output_type": "display_data",
       "png": "[encoded data removed]",
       "text": [
        "                     2\n",
        " 2 \u239b           \u239bb_b\u239e\u239e \n",
        "m \u22c5\u239c-b_bm + a_m\u239c\u2500\u2500\u2500\u239f\u239f \n",
        "   \u239d           \u239d a \u23a0\u23a0 "
       ]
      },
      {
       "latex": [
        "$$\\frac{a_{d}^{2} b_{b}^{2}}{a^{2}} d^{2}$$"
       ],
       "metadata": {},
       "output_type": "display_data",
       "png": "[encoded data removed]",
       "text": [
        "   2    2  2\n",
        "a_d \u22c5b_b \u22c5d \n",
        "\u2500\u2500\u2500\u2500\u2500\u2500\u2500\u2500\u2500\u2500\u2500\u2500\n",
        "      2     \n",
        "     a      "
       ]
      },
      {
       "latex": [
        "$$b_{bd}^{2} d^{2}$$"
       ],
       "metadata": {},
       "output_type": "display_data",
       "png": "[encoded data removed]",
       "text": [
        "    2  2\n",
        "b_bd \u22c5d "
       ]
      },
      {
       "latex": [
        "$$\\frac{a_{g}^{2} b_{b}^{2}}{a^{2}} g^{2}$$"
       ],
       "metadata": {},
       "output_type": "display_data",
       "png": "[encoded data removed]",
       "text": [
        "   2    2  2\n",
        "a_g \u22c5b_b \u22c5g \n",
        "\u2500\u2500\u2500\u2500\u2500\u2500\u2500\u2500\u2500\u2500\u2500\u2500\n",
        "      2     \n",
        "     a      "
       ]
      },
      {
       "latex": [
        "$$\\frac{a_{g}^{2} b_{b}^{2}}{a^{2}} g^{2}$$"
       ],
       "metadata": {},
       "output_type": "display_data",
       "png": "[encoded data removed]",
       "text": [
        "   2    2  2\n",
        "a_g \u22c5b_b \u22c5g \n",
        "\u2500\u2500\u2500\u2500\u2500\u2500\u2500\u2500\u2500\u2500\u2500\u2500\n",
        "      2     \n",
        "     a      "
       ]
      },
      {
       "latex": [
        "$$\\frac{a_{w}^{2} b_{b}^{2}}{a^{2}}$$"
       ],
       "metadata": {},
       "output_type": "display_data",
       "png": "[encoded data removed]",
       "text": [
        "   2    2\n",
        "a_w \u22c5b_b \n",
        "\u2500\u2500\u2500\u2500\u2500\u2500\u2500\u2500\u2500\n",
        "     2   \n",
        "    a    "
       ]
      },
      {
       "latex": [
        "$$b_{w}^{2}$$"
       ],
       "metadata": {},
       "output_type": "display_data",
       "png": "[encoded data removed]",
       "text": [
        "   2\n",
        "b_w "
       ]
      },
      {
       "latex": [
        "$$d^{2} \\left(- b_{bd} + \\frac{a_{d} b_{b}}{a}\\right)^{2}$$"
       ],
       "metadata": {},
       "output_type": "display_data",
       "png": "[encoded data removed]",
       "text": [
        "                    2\n",
        " 2 \u239b        a_d\u22c5b_b\u239e \n",
        "d \u22c5\u239c-b_bd + \u2500\u2500\u2500\u2500\u2500\u2500\u2500\u239f \n",
        "   \u239d           a   \u23a0 "
       ]
      },
      {
       "output_type": "stream",
       "stream": "stderr",
       "text": [
        "/usr/local/lib/python2.7/dist-packages/IPython/core/formatters.py:239: FormatterWarning: Exception in image/png formatter: \n",
        "\\begin{bmatrix}\\frac{a_{\\phi}^{2} b_{b}^{2}}{a^{2}} \\phi^{2}, & b_{b}^{2} \\left(a_{d} d / a + a_{g} g / a + a_{\\phi} \\phi / a + a_{w} / a + m \\left. \\frac{d}{d \\xi_{1}} {a_{m}}{\\left (\\xi_{1} \\right )} \\right|_{\\substack{ \\xi_{1}=b_{b} / a }} / a\\right)^{2}, & a^{2} \\left(- \\frac{a_{d} b_{b}}{a^{2}} d - \\frac{a_{g} b_{b}}{a^{2}} g - \\frac{a_{\\phi} b_{b}}{a^{2}} \\phi - \\frac{a_{w} b_{b}}{a^{2}} - \\frac{b_{b} m}{a^{2}} \\left. \\frac{d}{d \\xi_{1}} {a_{m}}{\\left (\\xi_{1} \\right )} \\right|_{\\substack{ \\xi_{1}=b_{b} / a }}\\right)^{2}, & \\phi^{2} \\left(- b_{\\phi} + a_{\\phi} b_{b} / a\\right)^{2}, & b_{\\phi}^{2} \\phi^{2}, & 0, & b_{bm}^{2} m^{2}, & m^{2} \\left(- b_{bm} + {a_{m}}{\\left (b_{b} / a \\right )}\\right)^{2}, & \\frac{a_{d}^{2} b_{b}^{2}}{a^{2}} d^{2}, & b_{bd}^{2} d^{2}, & \\frac{a_{g}^{2} b_{b}^{2}}{a^{2}} g^{2}, & \\frac{a_{g}^{2} b_{b}^{2}}{a^{2}} g^{2}, & \\frac{a_{w}^{2} b_{b}^{2}}{a^{2}}, & b_{w}^{2}, & d^{2} \\left(- b_{bd} + a_{d} b_{b} / a\\right)^{2}\\end{bmatrix}\n",
        "^\n",
        "Unknown symbol: \\begin (at char 0), (line:1, col:1)\n",
        "  FormatterWarning,\n"
       ]
      },
      {
       "latex": [
        "$$\\begin{bmatrix}\\frac{a_{\\phi}^{2} b_{b}^{2}}{a^{2}} \\phi^{2}, & b_{b}^{2} \\left(\\frac{a_{d} d}{a} + \\frac{a_{g} g}{a} + \\frac{a_{\\phi} \\phi}{a} + \\frac{a_{w}}{a} + \\frac{m}{a} \\left. \\frac{d}{d \\xi_{1}} \\operatorname{a_{m}}{\\left (\\xi_{1} \\right )} \\right|_{\\substack{ \\xi_{1}=\\frac{b_{b}}{a} }}\\right)^{2}, & a^{2} \\left(- \\frac{a_{d} b_{b}}{a^{2}} d - \\frac{a_{g} b_{b}}{a^{2}} g - \\frac{a_{\\phi} b_{b}}{a^{2}} \\phi - \\frac{a_{w} b_{b}}{a^{2}} - \\frac{b_{b} m}{a^{2}} \\left. \\frac{d}{d \\xi_{1}} \\operatorname{a_{m}}{\\left (\\xi_{1} \\right )} \\right|_{\\substack{ \\xi_{1}=\\frac{b_{b}}{a} }}\\right)^{2}, & \\phi^{2} \\left(- b_{\\phi} + \\frac{a_{\\phi} b_{b}}{a}\\right)^{2}, & b_{\\phi}^{2} \\phi^{2}, & 0, & b_{bm}^{2} m^{2}, & m^{2} \\left(- b_{bm} + \\operatorname{a_{m}}{\\left (\\frac{b_{b}}{a} \\right )}\\right)^{2}, & \\frac{a_{d}^{2} b_{b}^{2}}{a^{2}} d^{2}, & b_{bd}^{2} d^{2}, & \\frac{a_{g}^{2} b_{b}^{2}}{a^{2}} g^{2}, & \\frac{a_{g}^{2} b_{b}^{2}}{a^{2}} g^{2}, & \\frac{a_{w}^{2} b_{b}^{2}}{a^{2}}, & b_{w}^{2}, & d^{2} \\left(- b_{bd} + \\frac{a_{d} b_{b}}{a}\\right)^{2}\\end{bmatrix}$$"
       ],
       "metadata": {},
       "output_type": "display_data",
       "text": [
        "\u23a1                                                                        2    \n",
        "\u23a2                  \u239b                               \u239b d          \u239e\u2502      \u239e     \n",
        "\u23a2                  \u239c                             m\u22c5\u239c\u2500\u2500\u2500(a_m(\u03be\u2081))\u239f\u2502   b_b\u239f     \n",
        "\u23a2  2    2  2       \u239c                               \u239dd\u03be\u2081         \u23a0\u2502\u03be\u2081=\u2500\u2500\u2500\u239f     \n",
        "\u23a2a\u1d69 \u22c5b_b \u22c5\u03c6      2 \u239ca_d\u22c5d   a_g\u22c5g   a\u1d69\u22c5\u03c6   a_w                        a \u239f    2\n",
        "\u23a2\u2500\u2500\u2500\u2500\u2500\u2500\u2500\u2500\u2500\u2500\u2500, b_b \u22c5\u239c\u2500\u2500\u2500\u2500\u2500 + \u2500\u2500\u2500\u2500\u2500 + \u2500\u2500\u2500\u2500 + \u2500\u2500\u2500 + \u2500\u2500\u2500\u2500\u2500\u2500\u2500\u2500\u2500\u2500\u2500\u2500\u2500\u2500\u2500\u2500\u2500\u2500\u2500\u2500\u2500\u2500\u2500\u239f , a \n",
        "\u23a2      2           \u239d  a       a      a      a               a           \u23a0     \n",
        "\u23a3     a                                                                       \n",
        "\n",
        "                                                                             2\n",
        " \u239b                                                     \u239b d          \u239e\u2502      \u239e \n",
        " \u239c                                               b_b\u22c5m\u22c5\u239c\u2500\u2500\u2500(a_m(\u03be\u2081))\u239f\u2502   b_b\u239f \n",
        " \u239c                                                     \u239dd\u03be\u2081         \u23a0\u2502\u03be\u2081=\u2500\u2500\u2500\u239f \n",
        " \u239c  a_d\u22c5b_b\u22c5d   a_g\u22c5b_b\u22c5g   a\u1d69\u22c5b_b\u22c5\u03c6   a_w\u22c5b_b                            a \u239f \n",
        "\u22c5\u239c- \u2500\u2500\u2500\u2500\u2500\u2500\u2500\u2500\u2500 - \u2500\u2500\u2500\u2500\u2500\u2500\u2500\u2500\u2500 - \u2500\u2500\u2500\u2500\u2500\u2500\u2500\u2500 - \u2500\u2500\u2500\u2500\u2500\u2500\u2500 - \u2500\u2500\u2500\u2500\u2500\u2500\u2500\u2500\u2500\u2500\u2500\u2500\u2500\u2500\u2500\u2500\u2500\u2500\u2500\u2500\u2500\u2500\u2500\u2500\u2500\u2500\u2500\u239f \n",
        " \u239c       2           2          2          2                   2            \u239f \n",
        " \u239d      a           a          a          a                   a             \u23a0 \n",
        "\n",
        "                                                                              \n",
        "                                                                              \n",
        "                                                                              \n",
        "                   2                                            2     2    2  \n",
        "   2 \u239b      a\u1d69\u22c5b_b\u239e     2  2         2  2   2 \u239b           \u239bb_b\u239e\u239e   a_d \u22c5b_b \u22c5d\n",
        ", \u03c6 \u22c5\u239c-b\u1d69 + \u2500\u2500\u2500\u2500\u2500\u2500\u239f , b\u1d69 \u22c5\u03c6 , 0, b_bm \u22c5m , m \u22c5\u239c-b_bm + a_m\u239c\u2500\u2500\u2500\u239f\u239f , \u2500\u2500\u2500\u2500\u2500\u2500\u2500\u2500\u2500\u2500\u2500\n",
        "     \u239d        a   \u23a0                           \u239d           \u239d a \u23a0\u23a0         2    \n",
        "                                                                        a     \n",
        "\n",
        "                                                                              \n",
        "                                                                              \n",
        "                                                                              \n",
        "2               2    2  2     2    2  2     2    2                            \n",
        "       2  2  a_g \u22c5b_b \u22c5g   a_g \u22c5b_b \u22c5g   a_w \u22c5b_b      2   2 \u239b        a_d\u22c5b_b\u239e\n",
        "\u2500, b_bd \u22c5d , \u2500\u2500\u2500\u2500\u2500\u2500\u2500\u2500\u2500\u2500\u2500\u2500, \u2500\u2500\u2500\u2500\u2500\u2500\u2500\u2500\u2500\u2500\u2500\u2500, \u2500\u2500\u2500\u2500\u2500\u2500\u2500\u2500\u2500, b_w , d \u22c5\u239c-b_bd + \u2500\u2500\u2500\u2500\u2500\u2500\u2500\u239f\n",
        "                   2             2            2              \u239d           a   \u23a0\n",
        "                  a             a            a                                \n",
        "\n",
        " \u23a4\n",
        " \u23a5\n",
        " \u23a5\n",
        "2\u23a5\n",
        " \u23a5\n",
        " \u23a5\n",
        " \u23a5\n",
        " \u23a6"
       ]
      }
     ],
     "prompt_number": 3
    },
    {
     "cell_type": "code",
     "collapsed": false,
     "input": [
      "sum(unc_terms)"
     ],
     "language": "python",
     "metadata": {},
     "outputs": [
      {
       "latex": [
        "$$a^{2} \\left(- \\frac{a_{d} b_{b}}{a^{2}} d - \\frac{a_{g} b_{b}}{a^{2}} g - \\frac{a_{\\phi} b_{b}}{a^{2}} \\phi - \\frac{a_{w} b_{b}}{a^{2}} - \\frac{b_{b} m}{a^{2}} \\left. \\frac{d}{d \\xi_{1}} \\operatorname{a_{m}}{\\left (\\xi_{1} \\right )} \\right|_{\\substack{ \\xi_{1}=\\frac{b_{b}}{a} }}\\right)^{2} + b_{b}^{2} \\left(\\frac{a_{d} d}{a} + \\frac{a_{g} g}{a} + \\frac{a_{\\phi} \\phi}{a} + \\frac{a_{w}}{a} + \\frac{m}{a} \\left. \\frac{d}{d \\xi_{1}} \\operatorname{a_{m}}{\\left (\\xi_{1} \\right )} \\right|_{\\substack{ \\xi_{1}=\\frac{b_{b}}{a} }}\\right)^{2} + b_{bd}^{2} d^{2} + b_{bm}^{2} m^{2} + b_{\\phi}^{2} \\phi^{2} + b_{w}^{2} + d^{2} \\left(- b_{bd} + \\frac{a_{d} b_{b}}{a}\\right)^{2} + m^{2} \\left(- b_{bm} + \\operatorname{a_{m}}{\\left (\\frac{b_{b}}{a} \\right )}\\right)^{2} + \\phi^{2} \\left(- b_{\\phi} + \\frac{a_{\\phi} b_{b}}{a}\\right)^{2} + \\frac{a_{d}^{2} b_{b}^{2}}{a^{2}} d^{2} + \\frac{2 a_{g}^{2}}{a^{2}} b_{b}^{2} g^{2} + \\frac{a_{\\phi}^{2} b_{b}^{2}}{a^{2}} \\phi^{2} + \\frac{a_{w}^{2} b_{b}^{2}}{a^{2}}$$"
       ],
       "metadata": {},
       "output_type": "pyout",
       "png": "[encoded data removed]",
       "prompt_number": 4,
       "text": [
        "                                                                              \n",
        "   \u239b                                                     \u239b d          \u239e\u2502      \n",
        "   \u239c                                               b_b\u22c5m\u22c5\u239c\u2500\u2500\u2500(a_m(\u03be\u2081))\u239f\u2502   b_b\n",
        "   \u239c                                                     \u239dd\u03be\u2081         \u23a0\u2502\u03be\u2081=\u2500\u2500\u2500\n",
        " 2 \u239c  a_d\u22c5b_b\u22c5d   a_g\u22c5b_b\u22c5g   a\u1d69\u22c5b_b\u22c5\u03c6   a_w\u22c5b_b                            a \n",
        "a \u22c5\u239c- \u2500\u2500\u2500\u2500\u2500\u2500\u2500\u2500\u2500 - \u2500\u2500\u2500\u2500\u2500\u2500\u2500\u2500\u2500 - \u2500\u2500\u2500\u2500\u2500\u2500\u2500\u2500 - \u2500\u2500\u2500\u2500\u2500\u2500\u2500 - \u2500\u2500\u2500\u2500\u2500\u2500\u2500\u2500\u2500\u2500\u2500\u2500\u2500\u2500\u2500\u2500\u2500\u2500\u2500\u2500\u2500\u2500\u2500\u2500\u2500\u2500\u2500\n",
        "   \u239c       2           2          2          2                   2            \n",
        "   \u239d      a           a          a          a                   a             \n",
        "\n",
        " 2                                                              2             \n",
        "\u239e         \u239b                               \u239b d          \u239e\u2502      \u239e              \n",
        "\u239f         \u239c                             m\u22c5\u239c\u2500\u2500\u2500(a_m(\u03be\u2081))\u239f\u2502   b_b\u239f              \n",
        "\u239f         \u239c                               \u239dd\u03be\u2081         \u23a0\u2502\u03be\u2081=\u2500\u2500\u2500\u239f              \n",
        "\u239f       2 \u239ca_d\u22c5d   a_g\u22c5g   a\u1d69\u22c5\u03c6   a_w                        a \u239f        2  2  \n",
        "\u239f  + b_b \u22c5\u239c\u2500\u2500\u2500\u2500\u2500 + \u2500\u2500\u2500\u2500\u2500 + \u2500\u2500\u2500\u2500 + \u2500\u2500\u2500 + \u2500\u2500\u2500\u2500\u2500\u2500\u2500\u2500\u2500\u2500\u2500\u2500\u2500\u2500\u2500\u2500\u2500\u2500\u2500\u2500\u2500\u2500\u2500\u239f  + b_bd \u22c5d  +\n",
        "\u239f         \u239d  a       a      a      a               a           \u23a0              \n",
        "\u23a0                                                                             \n",
        "\n",
        "                                                                              \n",
        "                                                                              \n",
        "                                                                              \n",
        "                                                2                        2    \n",
        "     2  2     2  2      2    2 \u239b        a_d\u22c5b_b\u239e     2 \u239b           \u239bb_b\u239e\u239e     \n",
        " b_bm \u22c5m  + b\u1d69 \u22c5\u03c6  + b_w  + d \u22c5\u239c-b_bd + \u2500\u2500\u2500\u2500\u2500\u2500\u2500\u239f  + m \u22c5\u239c-b_bm + a_m\u239c\u2500\u2500\u2500\u239f\u239f  + \u03c6\n",
        "                               \u239d           a   \u23a0       \u239d           \u239d a \u23a0\u23a0     \n",
        "                                                                              \n",
        "\n",
        "                                                                           \n",
        "                                                                           \n",
        "                                                                           \n",
        "                2      2    2  2        2    2  2     2    2  2      2    2\n",
        "2 \u239b      a\u1d69\u22c5b_b\u239e    a_d \u22c5b_b \u22c5d    2\u22c5a_g \u22c5b_b \u22c5g    a\u1d69 \u22c5b_b \u22c5\u03c6    a_w \u22c5b_b \n",
        " \u22c5\u239c-b\u1d69 + \u2500\u2500\u2500\u2500\u2500\u2500\u239f  + \u2500\u2500\u2500\u2500\u2500\u2500\u2500\u2500\u2500\u2500\u2500\u2500 + \u2500\u2500\u2500\u2500\u2500\u2500\u2500\u2500\u2500\u2500\u2500\u2500\u2500\u2500 + \u2500\u2500\u2500\u2500\u2500\u2500\u2500\u2500\u2500\u2500\u2500 + \u2500\u2500\u2500\u2500\u2500\u2500\u2500\u2500\u2500\n",
        "  \u239d        a   \u23a0          2               2               2            2   \n",
        "                         a               a               a            a    "
       ]
      }
     ],
     "prompt_number": 4
    },
    {
     "cell_type": "code",
     "collapsed": false,
     "input": [],
     "language": "python",
     "metadata": {},
     "outputs": []
    }
   ],
   "metadata": {}
  }
 ]
}